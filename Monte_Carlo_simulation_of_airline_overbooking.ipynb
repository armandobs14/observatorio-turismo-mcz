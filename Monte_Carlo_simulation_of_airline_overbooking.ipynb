{
 "cells": [
  {
   "cell_type": "markdown",
   "metadata": {},
   "source": [
    "# Monte Carlo simulation of airline overbooking\n",
    "\n",
    "As companhias aéreas reservam voos para maximizar os lucros.\n",
    "\n",
    "Considere um voo com assentos para 100 passageiros.\n",
    "\n",
    "Se a companhia aérea permitir apenas até 100 reservas para o voo, cada cliente receberá um assento no avião. No entanto, várias vagas provavelmente estarão vazias porque uma fração dos clientes que reservam um assento provavelmente perderá o voo. Para cada assento vazio, a companhia aérea perde receita.\n",
    "\n",
    "Se a companhia aérea permitir mais de 100 reservas, ou seja, se a companhia aérea reservar o voo, é mais provável que clientes suficientes apareçam para encher o avião para que a companhia aérea receba receita de cada assento do avião. No entanto, se mais de 100 clientes que reservaram um voo aparecerem, então (i) os clientes que perderam o voo ficarão irritados e não voarão novamente com essa companhia aérea e (ii) a companhia aérea deverá pagar vouchers para incentivar os voluntários a voar. Isso é caro.\n",
    "\n",
    "Claramente, existe um delicado equilíbrio de quanto reservar em excesso. Não reserve em excesso: todos os clientes estão satisfeitos, mas os voos operam abaixo da capacidade máxima e perdemos a receita. Excesso de reservas demais: os voos provavelmente estão operando perto da capacidade máxima, por isso, recebemos receita de cada assento, mas os passageiros que saem do voo estão com raiva e os vales caros devem ser pagos aos voluntários.\n",
    "\n",
    "Como entrada, precisamos da probabilidade de um determinado cliente comparecer ao voo após fazer uma reserva. "
   ]
  },
  {
   "cell_type": "code",
   "execution_count": 1,
   "metadata": {},
   "outputs": [],
   "source": [
    "import numpy as np\n",
    "import matplotlib.pyplot as plt\n",
    "import seaborn as sns"
   ]
  },
  {
   "cell_type": "code",
   "execution_count": 2,
   "metadata": {},
   "outputs": [],
   "source": [
    "def show_up(probability_show):\n",
    "    \"\"\"\n",
    "    A função show_up simula o processo estocástico de um cliente que aparece no voo após fazer uma reserva.\n",
    "    \"\"\"\n",
    "    if np.random.rand() < probability_show:\n",
    "        return True\n",
    "    else:\n",
    "        return False"
   ]
  },
  {
   "cell_type": "code",
   "execution_count": 3,
   "metadata": {},
   "outputs": [],
   "source": [
    "def simulate_flight(nb_tickets_solf, probability_show):    \n",
    "    \"\"\"\n",
    "    A função simulate_flight simula o processo estocástico de reservas nb_tickets_sold feitas \n",
    "    para um voo e retorna o número de clientes que aparecem.\n",
    "    \"\"\"\n",
    "    n = 0\n",
    "    for i in range(nb_tickets_solf):\n",
    "        if show_up(probability_show):\n",
    "            n += 1\n",
    "    return n"
   ]
  },
  {
   "cell_type": "markdown",
   "metadata": {},
   "source": [
    "    A receita recebida de um voo dependerá do número de reservas feitas ( nb_tickets_sold ), do número de lugares no avião ( nb_seats ), da probabilidade de um determinado cliente aparecer ( probability_show ), da receita recebida por assento ( revenue_per_seat ) e o custo de um voucher para incentivar os voluntários a pegar um voo diferente quando o avião estiver com overbooking, ( voucher_cost ). O último pode incluir o custo implícito de perder clientes para diferentes companhias aéreas após irritá-los. A função simulate_net_revenue simula o processo estocástico e retorna a receita líquida do voo."
   ]
  },
  {
   "cell_type": "code",
   "execution_count": 4,
   "metadata": {},
   "outputs": [],
   "source": [
    "def simulate_net_revenue(nb_tickets_solf, nb_seats, probability_show, revenue_per_seat, voucher_cost):\n",
    "    # how many ticket purchasers actually showed up?\n",
    "    nb_shows = simulate_flight(nb_tickets_solf, probability_show)\n",
    "    \n",
    "    # no one bumped from flight if less or equal folks show up than for\n",
    "    # the number of seats we have\n",
    "    if nb_shows <= nb_seats:\n",
    "        return revenue_per_seat*nb_shows\n",
    "    else:\n",
    "        voucher_out = nb_shows - nb_seats\n",
    "        return nb_seats*revenue_per_seat - voucher_cost*voucher_out"
   ]
  },
  {
   "cell_type": "markdown",
   "metadata": {},
   "source": [
    "#### Para um voo de US $ 350 em um avião de 100 lugares, onde os vales são o dobro do custo do bilhete:"
   ]
  },
  {
   "cell_type": "code",
   "execution_count": 5,
   "metadata": {},
   "outputs": [],
   "source": [
    "# Probabilidade de um determinado cliente comparecer ao voo após fazer uma reserva\n",
    "probability_show = 0.935\n",
    "# Numero de lugares no avião\n",
    "nb_seats = 100 \n",
    "# Valor da Passagem\n",
    "revenue_per_seat = 350.0 # USD\n",
    "# Valor do vale para incentivar os voluntários embarcar em outro voo.\n",
    "voucher_cost = revenue_per_seat * 2.0 # USD"
   ]
  },
  {
   "cell_type": "markdown",
   "metadata": {},
   "source": [
    "    Agora simulamos o processo de diferentes quantidades de overbooking para identificar a quantidade ideal de overbooking. Como este é um processo estocástico, executamos 10.000 simulações para simular 10.000 voos, para que possamos calcular a receita líquida média para cada quantidade de overbooking e medir a variação entre os voos."
   ]
  },
  {
   "cell_type": "code",
   "execution_count": 6,
   "metadata": {},
   "outputs": [],
   "source": [
    "nb_flights = 10000\n",
    "max_overbooking = 15\n",
    "\n",
    "revenue = np.zeros((nb_flights, max_overbooking+1))\n",
    "for tix_overbooking in range(max_overbooking):\n",
    "    nb_tickets_sold = nb_seats + tix_overbooking\n",
    "    for f in range(nb_flights):\n",
    "        revenue[f, tix_overbooking] = simulate_net_revenue(nb_tickets_sold, nb_seats, probability_show, \n",
    "                                                           revenue_per_seat, voucher_cost)"
   ]
  },
  {
   "cell_type": "code",
   "execution_count": 7,
   "metadata": {},
   "outputs": [
    {
     "data": {
      "image/png": "[encoded data removed]",
      "text/plain": [
       "<Figure size 432x288 with 1 Axes>"
      ]
     },
     "metadata": {
      "needs_background": "light"
     },
     "output_type": "display_data"
    }
   ],
   "source": [
    "plt.boxplot(revenue, labels=list(range(max_overbooking+1)))\n",
    "plt.ylim(24000,36000)\n",
    "plt.xlabel(\"# tickets sold beyond capacity\")\n",
    "plt.ylabel(\"net revenue\")\n",
    "plt.show()"
   ]
  },
  {
   "cell_type": "markdown",
   "metadata": {},
   "source": [
    "    O box mostra que, se não fizermos overbook (0 no eixo da horizontal), recebemos, em média, menos receita líquida do que se fizermos overbooking. Se reservarmos demais, por exemplo, vendermos 15 ingressos acima da capacidade, veremos que a receita líquida média é menor do que se formos em excesso, porque estamos pagando vales caros. A quantidade ideal de overbooking com esses parâmetros é mostrada pela caixa gráfica como 5 a 7 tickets além da capacidade. Naturalmente, esse resultado depende da probabilidade de um cliente aparecer, do custo do vôo e do voucher e do número de assentos no avião."
   ]
  }
 ],
 "metadata": {
  "kernelspec": {
   "display_name": "Python 3",
   "language": "python",
   "name": "python3"
  },
  "language_info": {
   "codemirror_mode": {
    "name": "ipython",
    "version": 3
   },
   "file_extension": ".py",
   "mimetype": "text/x-python",
   "name": "python",
   "nbconvert_exporter": "python",
   "pygments_lexer": "ipython3",
   "version": "3.6.7"
  }
 },
 "nbformat": 4,
 "nbformat_minor": 2
}
